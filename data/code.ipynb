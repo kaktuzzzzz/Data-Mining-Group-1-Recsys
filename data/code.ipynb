{
 "cells": [
  {
   "cell_type": "code",
   "execution_count": 1,
   "metadata": {},
   "outputs": [
    {
     "name": "stdout",
     "output_type": "stream",
     "text": [
      "Number of users: 40226\n",
      "Number of items: 54542\n",
      "Number of interactions: 353962\n"
     ]
    }
   ],
   "source": [
    "import pandas as pd\n",
    "\n",
    "# Load the file (space-separated, no headers)\n",
    "df = pd.read_csv('beauty.txt', sep=' ', header=None, names=['user_id', 'item_id'])\n",
    "\n",
    "# Count unique users\n",
    "num_users = df['user_id'].nunique()\n",
    "\n",
    "# Count unique items\n",
    "num_items = df['item_id'].nunique()\n",
    "\n",
    "num_interactions = len(df)\n",
    "\n",
    "print(f'Number of users: {num_users}')\n",
    "print(f'Number of items: {num_items}')\n",
    "print(f'Number of interactions: {num_interactions}')\n"
   ]
  }
 ],
 "metadata": {
  "kernelspec": {
   "display_name": "bert4rec2",
   "language": "python",
   "name": "python3"
  },
  "language_info": {
   "codemirror_mode": {
    "name": "ipython",
    "version": 3
   },
   "file_extension": ".py",
   "mimetype": "text/x-python",
   "name": "python",
   "nbconvert_exporter": "python",
   "pygments_lexer": "ipython3",
   "version": "3.8.20"
  }
 },
 "nbformat": 4,
 "nbformat_minor": 2
}
