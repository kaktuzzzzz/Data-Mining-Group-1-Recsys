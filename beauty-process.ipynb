{
 "cells": [
  {
   "cell_type": "code",
   "execution_count": 16,
   "metadata": {},
   "outputs": [],
   "source": [
    "import pandas as pd\n",
    "from pathlib import Path\n",
    "import os\n",
    "import sys\n",
    "\n",
    "import matplotlib.pyplot as plt\n",
    "\n",
    "sys.path.append('../src')\n"
   ]
  },
  {
   "cell_type": "code",
   "execution_count": 32,
   "metadata": {},
   "outputs": [],
   "source": [
    "file_path = Path('data') / 'beautyamazon.csv'\n",
    "df = pd.read_csv(file_path)"
   ]
  },
  {
   "cell_type": "code",
   "execution_count": 33,
   "metadata": {},
   "outputs": [
    {
     "data": {
      "text/html": [
       "<div>\n",
       "<style scoped>\n",
       "    .dataframe tbody tr th:only-of-type {\n",
       "        vertical-align: middle;\n",
       "    }\n",
       "\n",
       "    .dataframe tbody tr th {\n",
       "        vertical-align: top;\n",
       "    }\n",
       "\n",
       "    .dataframe thead th {\n",
       "        text-align: right;\n",
       "    }\n",
       "</style>\n",
       "<table border=\"1\" class=\"dataframe\">\n",
       "  <thead>\n",
       "    <tr style=\"text-align: right;\">\n",
       "      <th></th>\n",
       "      <th>UserId</th>\n",
       "      <th>ProductId</th>\n",
       "      <th>ProductType</th>\n",
       "      <th>Rating</th>\n",
       "      <th>Timestamp</th>\n",
       "      <th>URL</th>\n",
       "    </tr>\n",
       "  </thead>\n",
       "  <tbody>\n",
       "    <tr>\n",
       "      <th>0</th>\n",
       "      <td>A3NHUQ33CFH3VM</td>\n",
       "      <td>B00LLPT4HI</td>\n",
       "      <td>Eyeliner &amp; Kajal</td>\n",
       "      <td>5</td>\n",
       "      <td>1405814400</td>\n",
       "      <td>https://www.amazon.in/Maybelline-Colossal-Kaja...</td>\n",
       "    </tr>\n",
       "    <tr>\n",
       "      <th>1</th>\n",
       "      <td>A1TIRNQ7O4REOH</td>\n",
       "      <td>B00LLPT4HI</td>\n",
       "      <td>Eyeliner &amp; Kajal</td>\n",
       "      <td>4</td>\n",
       "      <td>1405987200</td>\n",
       "      <td>https://www.amazon.in/Maybelline-Colossal-Kaja...</td>\n",
       "    </tr>\n",
       "    <tr>\n",
       "      <th>2</th>\n",
       "      <td>A2Y36BR4YSY9F7</td>\n",
       "      <td>B00LLPT4HI</td>\n",
       "      <td>Eyeliner &amp; Kajal</td>\n",
       "      <td>5</td>\n",
       "      <td>1405728000</td>\n",
       "      <td>https://www.amazon.in/Maybelline-Colossal-Kaja...</td>\n",
       "    </tr>\n",
       "    <tr>\n",
       "      <th>3</th>\n",
       "      <td>A23H6FAOLEMAKC</td>\n",
       "      <td>B00LLPT4HI</td>\n",
       "      <td>Eyeliner &amp; Kajal</td>\n",
       "      <td>5</td>\n",
       "      <td>1405814400</td>\n",
       "      <td>https://www.amazon.in/Maybelline-Colossal-Kaja...</td>\n",
       "    </tr>\n",
       "    <tr>\n",
       "      <th>4</th>\n",
       "      <td>A3CHYZGF3OO6WD</td>\n",
       "      <td>B00LLPT4HI</td>\n",
       "      <td>Eyeliner &amp; Kajal</td>\n",
       "      <td>5</td>\n",
       "      <td>1405641600</td>\n",
       "      <td>https://www.amazon.in/Maybelline-Colossal-Kaja...</td>\n",
       "    </tr>\n",
       "  </tbody>\n",
       "</table>\n",
       "</div>"
      ],
      "text/plain": [
       "           UserId   ProductId       ProductType  Rating   Timestamp  \\\n",
       "0  A3NHUQ33CFH3VM  B00LLPT4HI  Eyeliner & Kajal       5  1405814400   \n",
       "1  A1TIRNQ7O4REOH  B00LLPT4HI  Eyeliner & Kajal       4  1405987200   \n",
       "2  A2Y36BR4YSY9F7  B00LLPT4HI  Eyeliner & Kajal       5  1405728000   \n",
       "3  A23H6FAOLEMAKC  B00LLPT4HI  Eyeliner & Kajal       5  1405814400   \n",
       "4  A3CHYZGF3OO6WD  B00LLPT4HI  Eyeliner & Kajal       5  1405641600   \n",
       "\n",
       "                                                 URL  \n",
       "0  https://www.amazon.in/Maybelline-Colossal-Kaja...  \n",
       "1  https://www.amazon.in/Maybelline-Colossal-Kaja...  \n",
       "2  https://www.amazon.in/Maybelline-Colossal-Kaja...  \n",
       "3  https://www.amazon.in/Maybelline-Colossal-Kaja...  \n",
       "4  https://www.amazon.in/Maybelline-Colossal-Kaja...  "
      ]
     },
     "execution_count": 33,
     "metadata": {},
     "output_type": "execute_result"
    }
   ],
   "source": [
    "df.head()"
   ]
  },
  {
   "cell_type": "code",
   "execution_count": 34,
   "metadata": {},
   "outputs": [
    {
     "name": "stdout",
     "output_type": "stream",
     "text": [
      "(1348246, 6)\n"
     ]
    }
   ],
   "source": [
    "print(df.shape)"
   ]
  },
  {
   "cell_type": "code",
   "execution_count": 36,
   "metadata": {},
   "outputs": [],
   "source": [
    "df = df[['UserId', 'ProductId', 'Timestamp']]"
   ]
  },
  {
   "cell_type": "code",
   "execution_count": 37,
   "metadata": {},
   "outputs": [],
   "source": [
    "df = df.rename(columns={'UserId':'user_id','ProductId': 'item_id'})"
   ]
  },
  {
   "cell_type": "code",
   "execution_count": 38,
   "metadata": {},
   "outputs": [
    {
     "data": {
      "text/plain": [
       "(883753, 23838)"
      ]
     },
     "execution_count": 38,
     "metadata": {},
     "output_type": "execute_result"
    }
   ],
   "source": [
    "df.user_id.nunique(), df.item_id.nunique()"
   ]
  },
  {
   "cell_type": "code",
   "execution_count": 39,
   "metadata": {},
   "outputs": [
    {
     "data": {
      "text/plain": [
       "count    883753.000000\n",
       "mean          1.525591\n",
       "std           2.008556\n",
       "min           1.000000\n",
       "25%           1.000000\n",
       "50%           1.000000\n",
       "75%           1.000000\n",
       "max         222.000000\n",
       "dtype: float64"
      ]
     },
     "execution_count": 39,
     "metadata": {},
     "output_type": "execute_result"
    }
   ],
   "source": [
    "df.groupby('user_id').size().describe()"
   ]
  },
  {
   "cell_type": "code",
   "execution_count": 40,
   "metadata": {},
   "outputs": [
    {
     "data": {
      "text/plain": [
       "count    23838.000000\n",
       "mean        56.558688\n",
       "std         92.422208\n",
       "min         16.000000\n",
       "25%         21.000000\n",
       "50%         31.000000\n",
       "75%         56.000000\n",
       "max       2869.000000\n",
       "dtype: float64"
      ]
     },
     "execution_count": 40,
     "metadata": {},
     "output_type": "execute_result"
    }
   ],
   "source": [
    "df.groupby('item_id').size().describe()"
   ]
  },
  {
   "cell_type": "code",
   "execution_count": 41,
   "metadata": {},
   "outputs": [],
   "source": [
    "def filter_users(df, user_min_count, user_col='user_id'):\n",
    "    print('Filtering users based on total interactions...')\n",
    "\n",
    "    # Count total interactions per user (not unique items)\n",
    "    user_count = df.groupby(user_col).size()\n",
    "\n",
    "    # Keep users with at least `user_min_count` interactions\n",
    "    user_ids = user_count[user_count >= user_min_count].index\n",
    "\n",
    "    print(f'Number of users before: {len(user_count)}')\n",
    "    print(f'Number of users after: {len(user_ids)}')\n",
    "\n",
    "    print(f'Interactions before: {len(df)}')\n",
    "    df = df[df[user_col].isin(user_ids)]\n",
    "    print(f'Interactions after: {len(df)}')\n",
    "\n",
    "    return df\n",
    "\n",
    "\n"
   ]
  },
  {
   "cell_type": "code",
   "execution_count": 44,
   "metadata": {},
   "outputs": [
    {
     "name": "stdout",
     "output_type": "stream",
     "text": [
      "Filtering users based on total interactions...\n",
      "Number of users before: 45390\n",
      "Number of users after: 28040\n",
      "Interactions before: 313001\n",
      "Interactions after: 243601\n"
     ]
    }
   ],
   "source": [
    "df = filter_users(df, user_min_count=5)"
   ]
  },
  {
   "cell_type": "code",
   "execution_count": 45,
   "metadata": {},
   "outputs": [
    {
     "data": {
      "text/plain": [
       "count    28040.000000\n",
       "mean         8.687625\n",
       "std          7.831627\n",
       "min          5.000000\n",
       "25%          5.000000\n",
       "50%          6.000000\n",
       "75%          9.000000\n",
       "max        222.000000\n",
       "dtype: float64"
      ]
     },
     "execution_count": 45,
     "metadata": {},
     "output_type": "execute_result"
    }
   ],
   "source": [
    "df.groupby('user_id').size().describe()"
   ]
  },
  {
   "cell_type": "code",
   "execution_count": 46,
   "metadata": {},
   "outputs": [
    {
     "data": {
      "text/plain": [
       "count    22445.000000\n",
       "mean        10.853241\n",
       "std         19.707212\n",
       "min          1.000000\n",
       "25%          3.000000\n",
       "50%          5.000000\n",
       "75%         10.000000\n",
       "max        442.000000\n",
       "dtype: float64"
      ]
     },
     "execution_count": 46,
     "metadata": {},
     "output_type": "execute_result"
    }
   ],
   "source": [
    "df.groupby('item_id').size().describe()"
   ]
  },
  {
   "cell_type": "code",
   "execution_count": 47,
   "metadata": {},
   "outputs": [],
   "source": [
    "df = df.sort_values(['user_id', 'Timestamp'])"
   ]
  },
  {
   "cell_type": "code",
   "execution_count": 48,
   "metadata": {},
   "outputs": [],
   "source": [
    "df.user_id = df.user_id.astype('category').cat.codes + 1\n",
    "df.item_id = df.item_id.astype('category').cat.codes + 1"
   ]
  },
  {
   "cell_type": "code",
   "execution_count": 51,
   "metadata": {},
   "outputs": [],
   "source": [
    "import os\n",
    "\n",
    "# Create the directory if it doesn't exist\n",
    "os.makedirs('data', exist_ok=True)\n",
    "\n",
    "# Now save the file\n",
    "df[['user_id', 'item_id']].to_csv('data/beauty2.txt', sep=' ', index=False, header=None)\n"
   ]
  }
 ],
 "metadata": {
  "kernelspec": {
   "display_name": "bert4rec2",
   "language": "python",
   "name": "python3"
  },
  "language_info": {
   "codemirror_mode": {
    "name": "ipython",
    "version": 3
   },
   "file_extension": ".py",
   "mimetype": "text/x-python",
   "name": "python",
   "nbconvert_exporter": "python",
   "pygments_lexer": "ipython3",
   "version": "3.8.20"
  }
 },
 "nbformat": 4,
 "nbformat_minor": 2
}
